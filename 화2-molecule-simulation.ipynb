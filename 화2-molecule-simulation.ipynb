{
 "cells": [
  {
   "cell_type": "code",
   "execution_count": 1,
   "id": "923f5729",
   "metadata": {
    "_cell_guid": "b1076dfc-b9ad-4769-8c92-a6c4dae69d19",
    "_uuid": "8f2839f25d086af736a60e9eeb907d3b93b6e0e5",
    "execution": {
     "iopub.execute_input": "2023-05-09T01:39:05.429129Z",
     "iopub.status.busy": "2023-05-09T01:39:05.428617Z",
     "iopub.status.idle": "2023-05-09T01:39:19.066504Z",
     "shell.execute_reply": "2023-05-09T01:39:19.065071Z"
    },
    "papermill": {
     "duration": 13.646239,
     "end_time": "2023-05-09T01:39:19.069365",
     "exception": false,
     "start_time": "2023-05-09T01:39:05.423126",
     "status": "completed"
    },
    "tags": []
   },
   "outputs": [
    {
     "name": "stdout",
     "output_type": "stream",
     "text": [
      "Collecting cantera\r\n",
      "  Downloading Cantera-2.6.0.post1-cp310-cp310-manylinux_2_12_x86_64.manylinux2010_x86_64.whl (5.9 MB)\r\n",
      "\u001b[2K     \u001b[90m━━━━━━━━━━━━━━━━━━━━━━━━━━━━━━━━━━━━━━━━\u001b[0m \u001b[32m5.9/5.9 MB\u001b[0m \u001b[31m37.4 MB/s\u001b[0m eta \u001b[36m0:00:00\u001b[0m\r\n",
      "\u001b[?25hRequirement already satisfied: ruamel.yaml>=0.15.34 in /opt/conda/lib/python3.10/site-packages (from cantera) (0.17.21)\r\n",
      "Requirement already satisfied: numpy>=1.12.0 in /opt/conda/lib/python3.10/site-packages (from cantera) (1.23.5)\r\n",
      "Requirement already satisfied: ruamel.yaml.clib>=0.2.6 in /opt/conda/lib/python3.10/site-packages (from ruamel.yaml>=0.15.34->cantera) (0.2.7)\r\n",
      "Installing collected packages: cantera\r\n",
      "Successfully installed cantera-2.6.0.post1\r\n",
      "\u001b[33mWARNING: Running pip as the 'root' user can result in broken permissions and conflicting behaviour with the system package manager. It is recommended to use a virtual environment instead: https://pip.pypa.io/warnings/venv\u001b[0m\u001b[33m\r\n",
      "\u001b[0m"
     ]
    }
   ],
   "source": [
    "!pip install cantera"
   ]
  },
  {
   "cell_type": "code",
   "execution_count": 2,
   "id": "4e8539f2",
   "metadata": {
    "execution": {
     "iopub.execute_input": "2023-05-09T01:39:19.078941Z",
     "iopub.status.busy": "2023-05-09T01:39:19.078540Z",
     "iopub.status.idle": "2023-05-09T01:39:19.385195Z",
     "shell.execute_reply": "2023-05-09T01:39:19.384273Z"
    },
    "papermill": {
     "duration": 0.314662,
     "end_time": "2023-05-09T01:39:19.387922",
     "exception": false,
     "start_time": "2023-05-09T01:39:19.073260",
     "status": "completed"
    },
    "tags": []
   },
   "outputs": [
    {
     "name": "stderr",
     "output_type": "stream",
     "text": [
      "/opt/conda/lib/python3.10/site-packages/scipy/__init__.py:146: UserWarning: A NumPy version >=1.16.5 and <1.23.0 is required for this version of SciPy (detected version 1.23.5\n",
      "  warnings.warn(f\"A NumPy version >={np_minversion} and <{np_maxversion}\"\n"
     ]
    }
   ],
   "source": [
    "import cantera as ct\n",
    "import numpy as np\n",
    "\n",
    "ATM = 101325\n",
    "K = 273.15"
   ]
  },
  {
   "cell_type": "markdown",
   "id": "db4c98ff",
   "metadata": {
    "papermill": {
     "duration": 0.003517,
     "end_time": "2023-05-09T01:39:19.395398",
     "exception": false,
     "start_time": "2023-05-09T01:39:19.391881",
     "status": "completed"
    },
    "tags": []
   },
   "source": [
    "# 보일법칙\n",
    "어떤 이상기체의 압력을 $101325Pa (1atm)$ 에서 $202650Pa (2atm)$으로 올렸을 때 밀도가 2배가 되는 것으로 보아 부피가 $\\frac{1}{2}$배가 되었음을 알 수 있다."
   ]
  },
  {
   "cell_type": "code",
   "execution_count": 3,
   "id": "56c169d3",
   "metadata": {
    "execution": {
     "iopub.execute_input": "2023-05-09T01:39:19.404489Z",
     "iopub.status.busy": "2023-05-09T01:39:19.404126Z",
     "iopub.status.idle": "2023-05-09T01:39:19.539878Z",
     "shell.execute_reply": "2023-05-09T01:39:19.538693Z"
    },
    "papermill": {
     "duration": 0.143418,
     "end_time": "2023-05-09T01:39:19.542584",
     "exception": false,
     "start_time": "2023-05-09T01:39:19.399166",
     "status": "completed"
    },
    "tags": []
   },
   "outputs": [
    {
     "name": "stdout",
     "output_type": "stream",
     "text": [
      "\n",
      "  gri30:\n",
      "\n",
      "       temperature   273.15 K\n",
      "          pressure   1.0133e+05 Pa\n",
      "           density   0.089944 kg/m^3\n",
      "  mean mol. weight   2.016 kg/kmol\n",
      "   phase of matter   gas\n",
      "\n",
      "                          1 kg             1 kmol     \n",
      "                     ---------------   ---------------\n",
      "          enthalpy       -3.5623e+05       -7.1817e+05  J\n",
      "   internal energy       -1.4828e+06       -2.9893e+06  J\n",
      "           entropy             63574        1.2816e+05  J/K\n",
      "    Gibbs function       -1.7721e+07       -3.5726e+07  J\n",
      " heat capacity c_p             14190             28607  J/K\n",
      " heat capacity c_v             10066             20293  J/K\n",
      "\n",
      "                      mass frac. Y      mole frac. X     chem. pot. / RT\n",
      "                     ---------------   ---------------   ---------------\n",
      "                H2                 1                 1           -15.731\n",
      "     [  +52 minor]                 0                 0  \n",
      "\n"
     ]
    }
   ],
   "source": [
    "gas1 = ct.Solution('gri30.yaml')\n",
    "# T와 P를 273K, 1atm(101325Pa)으로 설정\n",
    "gas1.TP = K, ATM\n",
    "gas1()"
   ]
  },
  {
   "cell_type": "code",
   "execution_count": 4,
   "id": "454c94d1",
   "metadata": {
    "execution": {
     "iopub.execute_input": "2023-05-09T01:39:19.552163Z",
     "iopub.status.busy": "2023-05-09T01:39:19.551781Z",
     "iopub.status.idle": "2023-05-09T01:39:19.557299Z",
     "shell.execute_reply": "2023-05-09T01:39:19.556057Z"
    },
    "papermill": {
     "duration": 0.01323,
     "end_time": "2023-05-09T01:39:19.559843",
     "exception": false,
     "start_time": "2023-05-09T01:39:19.546613",
     "status": "completed"
    },
    "tags": []
   },
   "outputs": [
    {
     "name": "stdout",
     "output_type": "stream",
     "text": [
      "\n",
      "  gri30:\n",
      "\n",
      "       temperature   273.15 K\n",
      "          pressure   2.0265e+05 Pa\n",
      "           density   0.17989 kg/m^3\n",
      "  mean mol. weight   2.016 kg/kmol\n",
      "   phase of matter   gas\n",
      "\n",
      "                          1 kg             1 kmol     \n",
      "                     ---------------   ---------------\n",
      "          enthalpy       -3.5623e+05       -7.1817e+05  J\n",
      "   internal energy       -1.4828e+06       -2.9893e+06  J\n",
      "           entropy             60715         1.224e+05  J/K\n",
      "    Gibbs function       -1.6941e+07       -3.4152e+07  J\n",
      " heat capacity c_p             14190             28607  J/K\n",
      " heat capacity c_v             10066             20293  J/K\n",
      "\n",
      "                      mass frac. Y      mole frac. X     chem. pot. / RT\n",
      "                     ---------------   ---------------   ---------------\n",
      "                H2                 1                 1           -15.038\n",
      "     [  +52 minor]                 0                 0  \n",
      "\n"
     ]
    }
   ],
   "source": [
    "gas1.TP = K, 2*ATM\n",
    "gas1()"
   ]
  },
  {
   "cell_type": "markdown",
   "id": "0f82a7dd",
   "metadata": {
    "papermill": {
     "duration": 0.003634,
     "end_time": "2023-05-09T01:39:19.567414",
     "exception": false,
     "start_time": "2023-05-09T01:39:19.563780",
     "status": "completed"
    },
    "tags": []
   },
   "source": [
    "# 샤를법칙\n",
    "어떤 이상기체의 온도만 $273K$에서 $546K$으로 2배 증가시켰을 때, 밀도가 절반으로 줄어드는 것으로 보아 부피가 2배가 되었음을 알 수 있다."
   ]
  },
  {
   "cell_type": "code",
   "execution_count": 5,
   "id": "91cafe9d",
   "metadata": {
    "execution": {
     "iopub.execute_input": "2023-05-09T01:39:19.576854Z",
     "iopub.status.busy": "2023-05-09T01:39:19.576472Z",
     "iopub.status.idle": "2023-05-09T01:39:19.666537Z",
     "shell.execute_reply": "2023-05-09T01:39:19.665444Z"
    },
    "papermill": {
     "duration": 0.097814,
     "end_time": "2023-05-09T01:39:19.669190",
     "exception": false,
     "start_time": "2023-05-09T01:39:19.571376",
     "status": "completed"
    },
    "tags": []
   },
   "outputs": [
    {
     "name": "stdout",
     "output_type": "stream",
     "text": [
      "\n",
      "  gri30:\n",
      "\n",
      "       temperature   273.15 K\n",
      "          pressure   1.0133e+05 Pa\n",
      "           density   0.089944 kg/m^3\n",
      "  mean mol. weight   2.016 kg/kmol\n",
      "   phase of matter   gas\n",
      "\n",
      "                          1 kg             1 kmol     \n",
      "                     ---------------   ---------------\n",
      "          enthalpy       -3.5623e+05       -7.1817e+05  J\n",
      "   internal energy       -1.4828e+06       -2.9893e+06  J\n",
      "           entropy             63574        1.2816e+05  J/K\n",
      "    Gibbs function       -1.7721e+07       -3.5726e+07  J\n",
      " heat capacity c_p             14190             28607  J/K\n",
      " heat capacity c_v             10066             20293  J/K\n",
      "\n",
      "                      mass frac. Y      mole frac. X     chem. pot. / RT\n",
      "                     ---------------   ---------------   ---------------\n",
      "                H2                 1                 1           -15.731\n",
      "     [  +52 minor]                 0                 0  \n",
      "\n"
     ]
    }
   ],
   "source": [
    "gas1 = ct.Solution('gri30.yaml')\n",
    "# T와 P를 273K, 1atm(101325Pa)으로 설정\n",
    "gas1.TP = K, ATM\n",
    "gas1()"
   ]
  },
  {
   "cell_type": "code",
   "execution_count": 6,
   "id": "784c384d",
   "metadata": {
    "execution": {
     "iopub.execute_input": "2023-05-09T01:39:19.680121Z",
     "iopub.status.busy": "2023-05-09T01:39:19.678974Z",
     "iopub.status.idle": "2023-05-09T01:39:19.685540Z",
     "shell.execute_reply": "2023-05-09T01:39:19.684030Z"
    },
    "papermill": {
     "duration": 0.014536,
     "end_time": "2023-05-09T01:39:19.687923",
     "exception": false,
     "start_time": "2023-05-09T01:39:19.673387",
     "status": "completed"
    },
    "tags": []
   },
   "outputs": [
    {
     "name": "stdout",
     "output_type": "stream",
     "text": [
      "\n",
      "  gri30:\n",
      "\n",
      "       temperature   546.3 K\n",
      "          pressure   1.0133e+05 Pa\n",
      "           density   0.044972 kg/m^3\n",
      "  mean mol. weight   2.016 kg/kmol\n",
      "   phase of matter   gas\n",
      "\n",
      "                          1 kg             1 kmol     \n",
      "                     ---------------   ---------------\n",
      "          enthalpy        3.5969e+06        7.2513e+06  J\n",
      "   internal energy        1.3438e+06        2.7091e+06  J\n",
      "           entropy             73593        1.4836e+05  J/K\n",
      "    Gibbs function       -3.6607e+07         -7.38e+07  J\n",
      " heat capacity c_p             14519             29270  J/K\n",
      " heat capacity c_v             10395             20956  J/K\n",
      "\n",
      "                      mass frac. Y      mole frac. X     chem. pot. / RT\n",
      "                     ---------------   ---------------   ---------------\n",
      "                H2                 1                 1           -16.248\n",
      "     [  +52 minor]                 0                 0  \n",
      "\n"
     ]
    }
   ],
   "source": [
    "gas1.TP = 2*K, ATM\n",
    "gas1()"
   ]
  },
  {
   "cell_type": "markdown",
   "id": "2054d852",
   "metadata": {
    "papermill": {
     "duration": 0.003887,
     "end_time": "2023-05-09T01:39:19.695987",
     "exception": false,
     "start_time": "2023-05-09T01:39:19.692100",
     "status": "completed"
    },
    "tags": []
   },
   "source": [
    "# 각종 임계치 계산\n",
    "비이상기체에 대해서 여러 임계치를 테스트하는데 무슨값인지는 모르겠음..."
   ]
  },
  {
   "cell_type": "code",
   "execution_count": 7,
   "id": "17ec4ef8",
   "metadata": {
    "execution": {
     "iopub.execute_input": "2023-05-09T01:39:19.706058Z",
     "iopub.status.busy": "2023-05-09T01:39:19.705641Z",
     "iopub.status.idle": "2023-05-09T01:39:19.760043Z",
     "shell.execute_reply": "2023-05-09T01:39:19.758653Z"
    },
    "papermill": {
     "duration": 0.062272,
     "end_time": "2023-05-09T01:39:19.762534",
     "exception": false,
     "start_time": "2023-05-09T01:39:19.700262",
     "status": "completed"
    },
    "tags": []
   },
   "outputs": [
    {
     "name": "stdout",
     "output_type": "stream",
     "text": [
      "Critical State Properties\n",
      "\n",
      "               Fluid      Tc [K]     Pc [Pa]          Zc\n",
      "                 H2O        647.3    2.209E+07      0.2333\n",
      "                  N₂        126.2      3.4E+06      0.2891\n",
      "                 CH₄        190.6    4.599E+06      0.2904\n",
      "                  H₂        32.94    1.284E+06      0.3013\n",
      "                  O₂        154.6    5.043E+06      0.2879\n",
      "                 CO₂        304.2    7.384E+06      0.2769\n",
      "               C₇H₁₆        537.7     2.62E+06      0.2972\n",
      "             CF₃CH₂F        374.2    4.059E+06        0.26\n"
     ]
    }
   ],
   "source": [
    "fluids = {'H2O': ct.Water(),\n",
    "          'N₂': ct.Nitrogen(),\n",
    "          'CH₄': ct.Methane(),\n",
    "          'H₂': ct.Hydrogen(),\n",
    "          'O₂': ct.Oxygen(),\n",
    "          'CO₂': ct.CarbonDioxide(),\n",
    "          'C₇H₁₆': ct.Heptane(),\n",
    "          'CF₃CH₂F': ct.Hfc134a()\n",
    "          }\n",
    "\n",
    "print('Critical State Properties\\n')\n",
    "print('%20s  %10s  %10s  %10s' % ('Fluid','Tc [K]', 'Pc [Pa]', 'Zc'))\n",
    "for name in fluids:\n",
    "    f = fluids[name]\n",
    "    tc = f.critical_temperature\n",
    "    pc = f.critical_pressure\n",
    "    rc = f.critical_density\n",
    "    mw = f.mean_molecular_weight\n",
    "    zc = pc * mw / (rc * ct.gas_constant * tc)\n",
    "    print('%20s   %10.4g   %10.4G  %10.4G' % (name, tc, pc, zc))"
   ]
  },
  {
   "cell_type": "code",
   "execution_count": null,
   "id": "2ebd96dd",
   "metadata": {
    "papermill": {
     "duration": 0.004069,
     "end_time": "2023-05-09T01:39:19.771047",
     "exception": false,
     "start_time": "2023-05-09T01:39:19.766978",
     "status": "completed"
    },
    "tags": []
   },
   "outputs": [],
   "source": []
  }
 ],
 "metadata": {
  "kernelspec": {
   "display_name": "Python 3",
   "language": "python",
   "name": "python3"
  },
  "language_info": {
   "codemirror_mode": {
    "name": "ipython",
    "version": 3
   },
   "file_extension": ".py",
   "mimetype": "text/x-python",
   "name": "python",
   "nbconvert_exporter": "python",
   "pygments_lexer": "ipython3",
   "version": "3.10.10"
  },
  "papermill": {
   "default_parameters": {},
   "duration": 25.998021,
   "end_time": "2023-05-09T01:39:20.697327",
   "environment_variables": {},
   "exception": null,
   "input_path": "__notebook__.ipynb",
   "output_path": "__notebook__.ipynb",
   "parameters": {},
   "start_time": "2023-05-09T01:38:54.699306",
   "version": "2.4.0"
  }
 },
 "nbformat": 4,
 "nbformat_minor": 5
}
